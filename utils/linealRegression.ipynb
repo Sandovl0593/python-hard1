{
 "cells": [
  {
   "cell_type": "code",
   "execution_count": 71,
   "metadata": {},
   "outputs": [],
   "source": [
    "import numpy as np\n",
    "import numpy.random as npr\n",
    "import matplotlib.pyplot as plt"
   ]
  },
  {
   "cell_type": "markdown",
   "metadata": {},
   "source": [
    "## Cálculo"
   ]
  },
  {
   "cell_type": "markdown",
   "metadata": {},
   "source": [
    "Modelo de dos params: $\\quad h(x_i) = x_iw + b$\n",
    "\n",
    "Modelo de k dimensiones:   $\\quad h(x_i) = \\sum_{j=0}^k x_{ij}w_j \\ ; \\ w_0=b \\quad$\n",
    "Cada dimension con cada caracteristica.\n",
    "$\\quad h(X) = Xw^T$"
   ]
  },
  {
   "cell_type": "code",
   "execution_count": 72,
   "metadata": {},
   "outputs": [],
   "source": [
    "def H_lineal(x: float, w: np.ndarray, b: float) -> np.ndarray:\n",
    "    return (w * x) + b\n",
    "\n",
    "def H(x: np.ndarray, w: np.ndarray) -> np.ndarray:\n",
    "    # w: vector columna de pesos\n",
    "    # x: matriz de datos donde x_ij es el valor de la característica j en el dato i\n",
    "    return np.dot(x, w)"
   ]
  },
  {
   "cell_type": "markdown",
   "metadata": {},
   "source": [
    "Error: $\\quad \\mathcal{L} = \\frac{1}{2n}\\sum_{i=0}^n (y_i - h(x_i))^2$"
   ]
  },
  {
   "cell_type": "code",
   "execution_count": 73,
   "metadata": {},
   "outputs": [],
   "source": [
    "def ErrorLoss(y: np.ndarray, y_hat: np.ndarray) -> float:\n",
    "    # y_hat is the hypothesis of the model and y is the real value\n",
    "    n = len(y)\n",
    "    return (1/2*n) * np.sum((y - y_hat) ** 2)"
   ]
  },
  {
   "cell_type": "markdown",
   "metadata": {},
   "source": [
    "Derivadas para $k$ dimensiones:\n",
    "$\\quad \\frac{\\partial \\mathcal{L}}{\\partial w_j} = \\frac{1}{n}\\sum_{i=0}^n(y_i - h(x_i))(-x_{ij}) \\ ; \\quad 0\\leq j \\leq k$"
   ]
  },
  {
   "cell_type": "code",
   "execution_count": 74,
   "metadata": {},
   "outputs": [],
   "source": [
    "def derivative_kdim(x: np.ndarray, y: np.ndarray, \n",
    "                    w: np.ndarray) -> np.ndarray:\n",
    "    \"\"\"Aqui x es una matriz de datos donde x_i es un dato de k dimensiones\"\"\"\n",
    "    n = len(y)\n",
    "    dw = np.zeros(len(w))\n",
    "    for j in range(len(w)):\n",
    "        # para cada peso w_j se calcula la derivada de la función de error\n",
    "        # x.T[j] es la j-ésima columna de la matriz de datos\n",
    "        dw[j] = (1/n) * np.dot(y - (H(w, x)), x.T[j])\n",
    "    return dw"
   ]
  },
  {
   "cell_type": "markdown",
   "metadata": {},
   "source": [
    "Modelo de grado $p$:   $\\quad h(x_i) = w_0 + \\sum_{j=1}^p x_i^jw_j \\ ; \\ w_0=b \\quad$ Cada caracteristica con cada grado.\n",
    "\n",
    "Derivadas para modelo polinomial:\n",
    "$\\quad \\frac{\\partial \\mathcal{L}}{\\partial w_j} = \\frac{1}{n}\\sum_{i=0}^n(y_i - h(x_i))(-x_i^j) \\ ; \\quad 0\\leq j \\leq p$"
   ]
  },
  {
   "cell_type": "code",
   "execution_count": 75,
   "metadata": {},
   "outputs": [],
   "source": [
    "def derivative_pol(x: np.ndarray, y: np.ndarray, \n",
    "                   w: np.ndarray) -> float:\n",
    "    \"\"\"Aqui x es un vector de datos escalares\"\"\"\n",
    "    n = len(y)\n",
    "    return (1/n) * np.dot(y - (H(w, x)), -x) "
   ]
  },
  {
   "cell_type": "markdown",
   "metadata": {},
   "source": [
    "## Training"
   ]
  },
  {
   "cell_type": "markdown",
   "metadata": {},
   "source": [
    "Update $w_j$: $\\quad w_j = w_j-\\alpha \\frac{\\partial \\mathcal{L}}{\\partial w_j}$"
   ]
  },
  {
   "cell_type": "code",
   "execution_count": 76,
   "metadata": {},
   "outputs": [],
   "source": [
    "def update_wlin(w: float, b: float, alpha: float,\n",
    "                  db: np.ndarray, dw: np.ndarray) -> np.ndarray:\n",
    "    \"\"\"Actualiza los pesos w y el bias b\"\"\"\n",
    "    w = w - alpha * dw\n",
    "    b = b - alpha * db\n",
    "    return w, b\n",
    "\n",
    "# tanto en polnomico como en k-dimensional\n",
    "def update_w(w: np.ndarray, alpha: float, dw: np.ndarray) -> np.ndarray:\n",
    "    \"\"\"Actualiza los pesos w\"\"\"\n",
    "    return w - (alpha * dw)"
   ]
  },
  {
   "cell_type": "code",
   "execution_count": 77,
   "metadata": {},
   "outputs": [],
   "source": [
    "def train(x: np.ndarray, y: np.ndarray, k, alfa, epochs):\n",
    "    np.random.seed(2001)\n",
    "    w = npr.rand(1, k)\n",
    "    L = ErrorLoss(x, y, w)\n",
    "    loss = []\n",
    "    for _ in range(epochs):\n",
    "        dw = derivative_kdim(x, w)\n",
    "        w = update_w(w, alfa, dw)\n",
    "        L = ErrorLoss(x, y, w)\n",
    "        print(L)\n",
    "        loss.append(L)\n",
    "    return w, loss\n",
    "\n",
    "\n",
    "def Plot_Loss(epochs, loss):\n",
    "    plt.plot(epochs, loss)\n",
    "    plt.xlabel('Epochs')\n",
    "    plt.ylabel('Loss')\n",
    "    plt.title('Loss Function')"
   ]
  },
  {
   "cell_type": "code",
   "execution_count": 78,
   "metadata": {},
   "outputs": [],
   "source": [
    "def testPlot(x, w):\n",
    "    ypred = H(x, w)\n",
    "    plt.plot(x, ypred, 'o', color='red')\n",
    "    plt.show()\n",
    "\n",
    "def testLoss(x_train: np.ndarray, y_train: np.ndarray):\n",
    "    epochs = 1000\n",
    "    _, loss = train(x_train, y_train, 0.001, epochs)\n",
    "    Plot_Loss(epochs, loss)"
   ]
  },
  {
   "cell_type": "markdown",
   "metadata": {},
   "source": [
    "## Prueba:"
   ]
  },
  {
   "cell_type": "code",
   "execution_count": null,
   "metadata": {},
   "outputs": [],
   "source": [
    "x = npr.rand(100, 5)\n",
    "w = np.concatenate(([1], npr.rand(4)))\n",
    "y = H(x, w) + npr.rand(100) * 0.01\n",
    "\n",
    "# from sklearn.model_selection import train_test_split\n",
    "# x_train, x_test, y_train, y_test = train_test_split(x, y, test_size = 0.3)\n",
    "\n",
    "# testLoss(x_train, y_train)"
   ]
  }
 ],
 "metadata": {
  "kernelspec": {
   "display_name": "Python 3",
   "language": "python",
   "name": "python3"
  },
  "language_info": {
   "codemirror_mode": {
    "name": "ipython",
    "version": 3
   },
   "file_extension": ".py",
   "mimetype": "text/x-python",
   "name": "python",
   "nbconvert_exporter": "python",
   "pygments_lexer": "ipython3",
   "version": "3.11.4"
  }
 },
 "nbformat": 4,
 "nbformat_minor": 2
}
