{
 "cells": [
  {
   "cell_type": "code",
   "execution_count": null,
   "metadata": {},
   "outputs": [],
   "source": [
    "import numpy as np\n",
    "from collections import Counter\n",
    "import matplotlib.pyplot as plt"
   ]
  },
  {
   "cell_type": "markdown",
   "metadata": {},
   "source": [
    "## KMeans"
   ]
  },
  {
   "cell_type": "code",
   "execution_count": null,
   "metadata": {},
   "outputs": [],
   "source": [
    "def general_kmeans(X: np.ndarray, k, toler=0.001):\n",
    "    n = X.shape[0]\n",
    "    # initialize random centroids\n",
    "    centroids = X[np.random.choice(n, k, replace=False)]\n",
    "    \n",
    "    # until the centroids do not change significantly (dist(\\micron_i^{t+1}, \\micron_i^t) < toler)\n",
    "    while True:\n",
    "        # for each point x_j in X, assign it to the closest centroid \\micron_i\n",
    "        C_i = np.argmin(np.linalg.norm(X[:, None] - centroids, axis=-1), axis=-1)\n",
    "        # we use argmin to get the index of the closest centroid\n",
    "\n",
    "        # for each cluster C_i, update the centroid \\micron_i as the mean of all points assigned to it\n",
    "        micron_new = np.array([X[C_i == i].mean(axis=0) for i in range(k)])\n",
    "\n",
    "        # if the centroids do not change significantly, break\n",
    "        if np.linalg.norm(micron_new - centroids) < toler:\n",
    "            break\n",
    "        centroids = micron_new\n",
    "\n",
    "    return centroids, C_i "
   ]
  },
  {
   "cell_type": "markdown",
   "metadata": {},
   "source": [
    "## KMeans++"
   ]
  },
  {
   "cell_type": "code",
   "execution_count": null,
   "metadata": {},
   "outputs": [],
   "source": [
    "# kmeans++ is a variant of kmeans that initializes the centroids in a more intelligent way\n",
    "# the first centroid is chosen uniformly at random from the data points\n",
    "\n",
    "def kmeans_plus_plus(X: np.ndarray, k, toler=0.001):\n",
    "    n = X.shape[0]\n",
    "    # initialize centroids with first point\n",
    "    centroids = [X[np.random.choice(n)]]\n",
    "    \n",
    "    for _ in range(k-1):\n",
    "        # for each point x_j in X, calculate the distance to the closest centroid\n",
    "        dist = np.linalg.norm(X[:, None] - centroids, axis=-1).min(axis=-1)\n",
    "        # calculate the probability of each point to be chosen as the next centroid\n",
    "        prob = dist**2 / (dist**2).sum()\n",
    "        # choose the next centroid\n",
    "        centroids.append(X[np.random.choice(n, p=prob)])\n",
    "    \n",
    "    centroids = np.array(centroids)\n",
    "\n",
    "    # until the centroids do not change significantly (dist(\\micron_i^{t+1}, \\micron_i^t) < toler)\n",
    "    while True:\n",
    "        # for each point x_j in X, assign it to the closest centroid \\micron_i\n",
    "        C_i = np.argmin(np.linalg.norm(X[:, None] - centroids, axis=-1), axis=-1)\n",
    "        # we use argmin to get the index of the closest centroid\n",
    "\n",
    "        # for each cluster C_i, update the centroid \\micron_i as the mean of all points assigned to it\n",
    "        micron_new = np.array([X[C_i == i].mean(axis=0) for i in range(k)])\n",
    "\n",
    "        # if the centroids do not change significantly, break\n",
    "        if np.linalg.norm(micron_new - centroids) < toler:\n",
    "            break\n",
    "        centroids = micron_new\n",
    "\n",
    "    return centroids, C_i"
   ]
  },
  {
   "cell_type": "markdown",
   "metadata": {},
   "source": [
    "## MeanShift"
   ]
  },
  {
   "cell_type": "code",
   "execution_count": null,
   "metadata": {},
   "outputs": [],
   "source": [
    "# meanshift require a KDTREE to find the nearest neighbors\n",
    "from sklearn.neighbors import KDTree\n",
    "\n",
    "def meanshift(X: np.ndarray, bandwidth=0.5, toler=0.001):\n",
    "    n = X.shape[0]\n",
    "    # assign each data point y_i = x_i for all points in X\n",
    "    y = X.copy()\n",
    "    # build a KDTree to find the nearest neighbors\n",
    "    tree = KDTree(X)\n",
    "\n",
    "    while True:\n",
    "        # for each point y_i in X\n",
    "        for i in range(n):\n",
    "            # find the neighbors of y_i within a radius of bandwidth\n",
    "            neighbors = tree.query_radius(y[i][None], bandwidth)[0]\n",
    "            \n",
    "            # update y_i  using the Gaussian kernel, computing the new value y_i as the weighted mean of the neighbors\n",
    "            kernel_j = np.exp(-np.linalg.norm(y[neighbors] - y[i], axis=-1)**2 / (2 * bandwidth**2))\n",
    "            y[i] = (kernel_j[:, None] * y[neighbors]).sum(axis=0) / kernel_j.sum()\n",
    "\n",
    "            # if the centroids do not change significantly, break\n",
    "        if np.linalg.norm(y - X) < toler:\n",
    "            break\n",
    "        X = y\n",
    "\n",
    "    #group points y_i that converge to the same mode into the same cluster\n",
    "    C_i = np.zeros(n, dtype=int)\n",
    "    for i in range(n):\n",
    "        C_i[i] = np.argmin(np.linalg.norm(y[i] - y, axis=-1))\n",
    "    # assign each point x_i to the corresponding cluster based on its converged value y_i\n",
    "    X = y\n",
    "    return C_i"
   ]
  },
  {
   "cell_type": "markdown",
   "metadata": {},
   "source": [
    "## Agglomeative Clustering (insecure)"
   ]
  },
  {
   "cell_type": "code",
   "execution_count": null,
   "metadata": {},
   "outputs": [],
   "source": [
    "def agglomerative(D: np.ndarray, distances: list[list[float]], metric='normal'):\n",
    "    n = D.shape[0]\n",
    "    # each point x_i is a cluster {C_1, C_2, ..., C_n}\n",
    "    clusters = [[i] for i in range(n)]\n",
    "    while len(clusters) > 1:\n",
    "        # for each pair of clusters C_i and C_j, calculate the distance between them\n",
    "        if metric == 'normal':\n",
    "            # compute d(C_i, C_j) = minimum distance between two points in the clusters\n",
    "            D = np.array([[min(D[i, j] for i in c1 for j in c2) for c2 in clusters] for c1 in clusters])\n",
    "        elif metric == 'single':\n",
    "            # compute the maximum distance between two points in the clusters\n",
    "            D = np.array([[max(D[i, j] for i in c1 for j in c2) for c2 in clusters] for c1 in clusters])\n",
    "        elif metric == \"average\":\n",
    "            # compute the average distance between two points in the clusters\n",
    "            D = np.array([[np.mean([D[i, j] for i in c1 for j in c2]) for c2 in clusters] for c1 in clusters])\n",
    "\n",
    "        # find the pair of clusters C_i and C_j with the smallest distance, let C_a and C_b\n",
    "        i, j = np.unravel_index(D.argmin(), D.shape)\n",
    "        # merge C_a and C_b into a new cluster C_new = C_a U C_b\n",
    "        clusters.append(clusters[i] + clusters[j])\n",
    "        # update the set of clusters by removing C_a and C_b and adding C_new\n",
    "        clusters = [c for k, c in enumerate(clusters) if k not in [i, j]]\n",
    "        # update the distance matrix D with values D[C_new, C_k] for all clusters C_k\n",
    "        D = np.delete(D, [i, j], axis=0)\n",
    "\n",
    "    # assign each point x_i to the corresponding cluster\n",
    "    C_i = np.zeros(n, dtype=int)\n",
    "    for i, c in enumerate(clusters):\n",
    "        C_i[c] = i\n",
    "    return C_i\n",
    "\n",
    "def build_dendogram(X: np.ndarray, metric='normal'):\n",
    "    n = X.shape[0]\n",
    "    # initialize the distance matrix D with the Euclidean distance between each pair of points\n",
    "    D = np.linalg.norm(X[:, None] - X, axis=-1)\n",
    "    # initialize the list of distances\n",
    "    distances = []\n",
    "    # initialize the list of number of clusters\n",
    "    n_clusters = []\n",
    "    # for each number of clusters k from 1 to n\n",
    "    for k in range(1, n):\n",
    "        # apply the agglomerative algorithm with k clusters\n",
    "        C_i = agglomerative(D, distances, metric)\n",
    "        # calculate the distance between the clusters\n",
    "        dist = sum(D[i, j] for i in range(n) for j in range(i) if C_i[i] != C_i[j]) / n\n",
    "        # append the distance to the list of distances\n",
    "        distances.append(dist)\n",
    "        # append the number of clusters to the list of number of clusters\n",
    "        n_clusters.append(k)\n",
    "    return distances, n_clusters\n",
    "\n",
    "def plot_dendogram(X: np.ndarray, metric='normal'):\n",
    "    distances, n_clusters = build_dendogram(X, metric)\n",
    "    plt.plot(n_clusters, distances)\n",
    "    plt.xlabel('Number of clusters')\n",
    "    plt.ylabel('Average distance between clusters')\n",
    "    plt.title('Dendogram')\n",
    "    plt.show()"
   ]
  }
 ],
 "metadata": {
  "kernelspec": {
   "display_name": "Python 3",
   "language": "python",
   "name": "python3"
  },
  "language_info": {
   "name": "python",
   "version": "3.11.4"
  }
 },
 "nbformat": 4,
 "nbformat_minor": 2
}
