{
  "nbformat": 4,
  "nbformat_minor": 0,
  "metadata": {
    "colab": {
      "provenance": [],
      "toc_visible": true
    },
    "kernelspec": {
      "name": "python3",
      "display_name": "Python 3"
    },
    "language_info": {
      "name": "python"
    }
  },
  "cells": [
    {
      "cell_type": "markdown",
      "source": [
        " # Practice  Soft SVM.\n",
        " ----\n",
        "  \n",
        "  University : UTEC \\\\\n",
        "  Course       : Machine Learning \\\\\n",
        "  Professor    : Cristian López Del Alamo \\\\\n",
        "  Topic        : Soft SVM \\\\\n",
        "  Termina      : 4:45\n",
        "   \n",
        "\n",
        " ----\n",
        "\n",
        "Write the names and surnames of the members and the percentage of participation of each one in the development of the practice:\n",
        " - Integrante 1: Sofía Herrera (100%)\n",
        " - Integrante 2: Álvaro García (100%)\n",
        " - Integrante 3: Adrian Sandoval (100%)\n",
        " - Integrante 4: Elvis Lopez (25%)\n",
        "\n",
        "\n",
        " ----\n",
        "\n",
        "\n",
        "  \n",
        "\n",
        "\n"
      ],
      "metadata": {
        "id": "JUGj2nLirz-v"
      }
    },
    {
      "cell_type": "code",
      "source": [
        "# Loading Libraries\n",
        "!pip install pywavelets\n",
        "import numpy as np\n",
        "import math\n",
        "import pandas as pd\n",
        "import random\n",
        "import matplotlib.pyplot as plt\n",
        "import cvxopt\n",
        "import seaborn as sns\n",
        "import itertools\n",
        "import pywt\n",
        "import os\n",
        "from sklearn.metrics import confusion_matrix\n",
        "from sklearn.preprocessing import MinMaxScaler\n",
        "from sklearn.preprocessing import StandardScaler\n",
        "import zipfile\n",
        "from skimage import io, color"
      ],
      "metadata": {
        "id": "qgBNS0vz9yIW",
        "colab": {
          "base_uri": "https://localhost:8080/"
        },
        "outputId": "53091a40-5288-4531-e5f0-e5963dedd51d"
      },
      "execution_count": null,
      "outputs": [
        {
          "output_type": "stream",
          "name": "stdout",
          "text": [
            "Collecting pywavelets\n",
            "  Downloading pywavelets-1.7.0-cp310-cp310-manylinux_2_17_x86_64.manylinux2014_x86_64.whl.metadata (9.0 kB)\n",
            "Requirement already satisfied: numpy<3,>=1.23 in /usr/local/lib/python3.10/dist-packages (from pywavelets) (1.26.4)\n",
            "Downloading pywavelets-1.7.0-cp310-cp310-manylinux_2_17_x86_64.manylinux2014_x86_64.whl (4.5 MB)\n",
            "\u001b[2K   \u001b[90m━━━━━━━━━━━━━━━━━━━━━━━━━━━━━━━━━━━━━━━━\u001b[0m \u001b[32m4.5/4.5 MB\u001b[0m \u001b[31m30.8 MB/s\u001b[0m eta \u001b[36m0:00:00\u001b[0m\n",
            "\u001b[?25hInstalling collected packages: pywavelets\n",
            "Successfully installed pywavelets-1.7.0\n"
          ]
        }
      ]
    },
    {
      "cell_type": "markdown",
      "source": [
        "## Normalization"
      ],
      "metadata": {
        "id": "KBLjkIM3Ylev"
      }
    },
    {
      "cell_type": "code",
      "source": [
        "# Data Normalizing\n",
        "def normalizacion(data):\n",
        "  min=np.min(data)\n",
        "  max=np.max(data)\n",
        "  data_norm=(data-min)/(max-min)\n",
        "  return data_norm"
      ],
      "metadata": {
        "id": "0wPdjfu8-IGV"
      },
      "execution_count": null,
      "outputs": []
    },
    {
      "cell_type": "markdown",
      "source": [
        "## 1. Feature Vector\n",
        "\n",
        "A wavelet is a more efficient method than Fourier transforms for approximating a non-periodic function. Since an image can be seen as a two-dimensional function in a 3D space, we can approximate it using wavelets. In this case, we use the Hard Wavelet. The goal is to obtain a characteristic vector that represents each image\n",
        "\n",
        "[library:](https://pywavelets.readthedocs.io/en/latest/index.html)\n",
        "----\n",
        "Parámetros de la Función **haar**\n",
        "- f: Image File Name\n",
        "- n: Number of slider in the image"
      ],
      "metadata": {
        "id": "FbEqB9ZOYifu"
      }
    },
    {
      "cell_type": "code",
      "source": [
        "# Wavelet function for extracting image characteristics. This function returns a vector with image characteristics\n",
        "def haar(f, n):\n",
        "  imagen = io.imread(f)\n",
        "  for i in range(n):\n",
        "    imagen, (LH, HL, HH) = pywt.dwt2(imagen, 'haar')\n",
        "  gfg = np.array(imagen)\n",
        "  return gfg.flatten()"
      ],
      "metadata": {
        "id": "5mKMHnw3HJek"
      },
      "execution_count": null,
      "outputs": []
    },
    {
      "cell_type": "markdown",
      "source": [
        "### Encode Function\n",
        "Encode is a function that encodes images into feature vectors using wavelets to extract relevant information from each image. Encode takes the path where the images are located, encodes them, and returns a matrix where the ith element of the matrix is the feature vector of image i."
      ],
      "metadata": {
        "id": "KFPIA4MqrYka"
      }
    },
    {
      "cell_type": "code",
      "source": [
        "# This function loads all images in the specified path and returns a vector containing the feature vectors of these images. In the example, we use three splits.\n",
        "def encode(path, cuts):\n",
        "  encodings = []\n",
        "\n",
        "  print(\"Ingresó : \")\n",
        "  print(path)\n",
        "  i=0\n",
        "  for filename in os.listdir(path):\n",
        "      image_file = os.path.join(path, filename)\n",
        "      print(image_file)\n",
        "      if os.path.isfile(image_file):\n",
        "          encodings.append(haar(image_file, cuts))\n",
        "      i=i+1\n",
        "      if i==20:\n",
        "        return encodings\n",
        "  return encodings"
      ],
      "metadata": {
        "id": "BzY81s98C70o"
      },
      "execution_count": null,
      "outputs": []
    },
    {
      "cell_type": "markdown",
      "source": [
        "## Loading the data and extracting features using Hard Wavelet\n",
        "\n",
        "### get_data Function\n",
        "This function takes as input the paths where images of happy and disgust people are located, encodes them, and stores them in matrices. One matrix contains rows with features of happy people and another matrix contains features of sad people; both are combined into the same matrix. The rows of the matrix are randomized to then create the database that will train our soft SVM"
      ],
      "metadata": {
        "id": "tm-Xm5NPS-qT"
      }
    },
    {
      "cell_type": "code",
      "source": [
        "\n",
        "def get_data(emotion_1, emotion_2, cuts):\n",
        "  data  =  np.array(encode(emotion_1,cuts))\n",
        "  data  = np.insert(data, 0, 1, axis=1)\n",
        "  temp =  np.array(encode(emotion_2,cuts))\n",
        "  temp = np.insert(temp, 0, -1, axis=1)\n",
        "  data = np.concatenate((data, temp), axis=0)\n",
        "  for i in range(10):\n",
        "    np.random.shuffle(data)\n",
        "  y = data[:,0]\n",
        "  x = data[:, 1:]\n",
        "  return x, y"
      ],
      "metadata": {
        "id": "32eJou8tjAlL"
      },
      "execution_count": null,
      "outputs": []
    },
    {
      "cell_type": "markdown",
      "source": [
        "# Load train and test data\n",
        "\n",
        "We mount the drive in Colab, get the path where our images are located, and load the test and training data\n",
        "\n",
        "[Download DataSet](https://drive.google.com/drive/folders/1TvgyPE5l6TWtx7Fa6ZSKVUG2SsvEvh7l?usp=sharing)"
      ],
      "metadata": {
        "id": "_oPw5bMztgsD"
      }
    },
    {
      "cell_type": "code",
      "source": [
        "from google.colab import drive\n",
        "drive.mount('/content/drive')\n",
        "\n",
        "#  In the variable path, write the path where your dataset is located\n",
        "path = '/content/drive/MyDrive/images'\n",
        "\n",
        "c1_emotion = 'fear'\n",
        "c2_emotion = 'neutral'\n",
        "\n",
        "c1_emotion_train  = path +  '/train/' + c1_emotion\n",
        "c2_emotion_train  = path +  '/train/' + c2_emotion\n",
        "\n",
        "c1_emotion_test  = path +  '/validation/' + c1_emotion\n",
        "c2_emotion_test  = path +  '/validation/' + c2_emotion\n",
        "\n",
        "train_x, train_y = get_data(c1_emotion_train, c2_emotion_train,1)\n",
        "test_x, test_y = get_data(c1_emotion_test, c2_emotion_test,1)"
      ],
      "metadata": {
        "id": "BzOT129ul4pm",
        "colab": {
          "base_uri": "https://localhost:8080/"
        },
        "outputId": "6ad95bed-6417-4bac-8d00-0f9fbc89c28d"
      },
      "execution_count": null,
      "outputs": [
        {
          "output_type": "stream",
          "name": "stdout",
          "text": [
            "Mounted at /content/drive\n",
            "Ingresó : \n",
            "/content/drive/MyDrive/images/train/fear\n",
            "/content/drive/MyDrive/images/train/fear/4149.jpg\n",
            "/content/drive/MyDrive/images/train/fear/20876.jpg\n",
            "/content/drive/MyDrive/images/train/fear/28593.jpg\n",
            "/content/drive/MyDrive/images/train/fear/29069.jpg\n",
            "/content/drive/MyDrive/images/train/fear/27565.jpg\n",
            "/content/drive/MyDrive/images/train/fear/20396.jpg\n",
            "/content/drive/MyDrive/images/train/fear/31904.jpg\n",
            "/content/drive/MyDrive/images/train/fear/27850.jpg\n",
            "/content/drive/MyDrive/images/train/fear/10568.jpg\n",
            "/content/drive/MyDrive/images/train/fear/25203.jpg\n",
            "/content/drive/MyDrive/images/train/fear/32357.jpg\n",
            "/content/drive/MyDrive/images/train/fear/21683.jpg\n",
            "/content/drive/MyDrive/images/train/fear/22438.jpg\n",
            "/content/drive/MyDrive/images/train/fear/4319.jpg\n",
            "/content/drive/MyDrive/images/train/fear/28648.jpg\n",
            "/content/drive/MyDrive/images/train/fear/26294.jpg\n",
            "/content/drive/MyDrive/images/train/fear/23286.jpg\n",
            "/content/drive/MyDrive/images/train/fear/2270.jpg\n",
            "/content/drive/MyDrive/images/train/fear/22418.jpg\n",
            "/content/drive/MyDrive/images/train/fear/4096.jpg\n",
            "Ingresó : \n",
            "/content/drive/MyDrive/images/train/neutral\n",
            "/content/drive/MyDrive/images/train/neutral/22447.jpg\n",
            "/content/drive/MyDrive/images/train/neutral/1136.jpg\n",
            "/content/drive/MyDrive/images/train/neutral/12888.jpg\n",
            "/content/drive/MyDrive/images/train/neutral/113.jpg\n",
            "/content/drive/MyDrive/images/train/neutral/32222.jpg\n",
            "/content/drive/MyDrive/images/train/neutral/11511.jpg\n",
            "/content/drive/MyDrive/images/train/neutral/32702.jpg\n",
            "/content/drive/MyDrive/images/train/neutral/567.jpg\n",
            "/content/drive/MyDrive/images/train/neutral/27219.jpg\n",
            "/content/drive/MyDrive/images/train/neutral/12099.jpg\n",
            "/content/drive/MyDrive/images/train/neutral/12963.jpg\n",
            "/content/drive/MyDrive/images/train/neutral/12446.jpg\n",
            "/content/drive/MyDrive/images/train/neutral/13290.jpg\n",
            "/content/drive/MyDrive/images/train/neutral/27963.jpg\n",
            "/content/drive/MyDrive/images/train/neutral/16050.jpg\n",
            "/content/drive/MyDrive/images/train/neutral/15785.jpg\n",
            "/content/drive/MyDrive/images/train/neutral/11211.jpg\n",
            "/content/drive/MyDrive/images/train/neutral/18969.jpg\n",
            "/content/drive/MyDrive/images/train/neutral/17590.jpg\n",
            "/content/drive/MyDrive/images/train/neutral/15609.jpg\n",
            "Ingresó : \n",
            "/content/drive/MyDrive/images/validation/fear\n",
            "/content/drive/MyDrive/images/validation/fear/30774.jpg\n",
            "/content/drive/MyDrive/images/validation/fear/12592.jpg\n",
            "/content/drive/MyDrive/images/validation/fear/27503.jpg\n",
            "/content/drive/MyDrive/images/validation/fear/27899.jpg\n",
            "/content/drive/MyDrive/images/validation/fear/5989.jpg\n",
            "/content/drive/MyDrive/images/validation/fear/10968.jpg\n",
            "/content/drive/MyDrive/images/validation/fear/13593.jpg\n",
            "/content/drive/MyDrive/images/validation/fear/729.jpg\n",
            "/content/drive/MyDrive/images/validation/fear/17707.jpg\n",
            "/content/drive/MyDrive/images/validation/fear/21230.jpg\n",
            "/content/drive/MyDrive/images/validation/fear/24621.jpg\n",
            "/content/drive/MyDrive/images/validation/fear/19235.jpg\n",
            "/content/drive/MyDrive/images/validation/fear/15678.jpg\n",
            "/content/drive/MyDrive/images/validation/fear/6814.jpg\n",
            "/content/drive/MyDrive/images/validation/fear/10489.jpg\n",
            "/content/drive/MyDrive/images/validation/fear/538.jpg\n",
            "/content/drive/MyDrive/images/validation/fear/17217.jpg\n",
            "/content/drive/MyDrive/images/validation/fear/22640.jpg\n",
            "/content/drive/MyDrive/images/validation/fear/2357.jpg\n",
            "/content/drive/MyDrive/images/validation/fear/28308.jpg\n",
            "Ingresó : \n",
            "/content/drive/MyDrive/images/validation/neutral\n",
            "/content/drive/MyDrive/images/validation/neutral/5444.jpg\n",
            "/content/drive/MyDrive/images/validation/neutral/16989.jpg\n",
            "/content/drive/MyDrive/images/validation/neutral/14741.jpg\n",
            "/content/drive/MyDrive/images/validation/neutral/33399.jpg\n",
            "/content/drive/MyDrive/images/validation/neutral/34279.jpg\n",
            "/content/drive/MyDrive/images/validation/neutral/19993.jpg\n",
            "/content/drive/MyDrive/images/validation/neutral/26227.jpg\n",
            "/content/drive/MyDrive/images/validation/neutral/18168.jpg\n",
            "/content/drive/MyDrive/images/validation/neutral/22576.jpg\n",
            "/content/drive/MyDrive/images/validation/neutral/17695.jpg\n",
            "/content/drive/MyDrive/images/validation/neutral/17815.jpg\n",
            "/content/drive/MyDrive/images/validation/neutral/12202.jpg\n",
            "/content/drive/MyDrive/images/validation/neutral/11823.jpg\n",
            "/content/drive/MyDrive/images/validation/neutral/29129.jpg\n",
            "/content/drive/MyDrive/images/validation/neutral/20150.jpg\n",
            "/content/drive/MyDrive/images/validation/neutral/23565.jpg\n",
            "/content/drive/MyDrive/images/validation/neutral/9420.jpg\n",
            "/content/drive/MyDrive/images/validation/neutral/32321.jpg\n",
            "/content/drive/MyDrive/images/validation/neutral/13909.jpg\n",
            "/content/drive/MyDrive/images/validation/neutral/32782.jpg\n"
          ]
        }
      ]
    },
    {
      "cell_type": "code",
      "source": [
        "print(train_x.shape)\n",
        "print(train_y.shape)\n",
        "print(test_x.shape)\n",
        "print(test_y.shape)\n",
        "\n"
      ],
      "metadata": {
        "colab": {
          "base_uri": "https://localhost:8080/"
        },
        "id": "IH1duP_rs5kv",
        "outputId": "d621da67-2027-49f1-d0d6-caefb8d759fe"
      },
      "execution_count": null,
      "outputs": [
        {
          "output_type": "stream",
          "name": "stdout",
          "text": [
            "(40, 576)\n",
            "(40,)\n",
            "(40, 576)\n",
            "(40,)\n"
          ]
        }
      ]
    },
    {
      "cell_type": "markdown",
      "source": [
        "### 1. Hypothesis :  Remember, you can achieve it using linear algebra.\n",
        "\n",
        "$h(x_i) = x_i*w^t + b$"
      ],
      "metadata": {
        "id": "hf3IPJbCeP3z"
      }
    },
    {
      "cell_type": "code",
      "source": [
        "def h(X,w,b):\n",
        "  return np.dot(X,w.T) +b\n"
      ],
      "metadata": {
        "id": "sAl5uDMceQSk"
      },
      "execution_count": null,
      "outputs": []
    },
    {
      "cell_type": "markdown",
      "source": [
        "### 2. Loss function\n",
        "\n",
        "$L = \\frac{1}{2}\\parallel W \\parallel_2^2  + C\\sum_{i=0}^nmax(0,1-y_i(x_iw^t + b)) $\n"
      ],
      "metadata": {
        "id": "NyZEBRyKS5j_"
      }
    },
    {
      "cell_type": "code",
      "source": [
        "# Implemente la función de pérdida del soft SVM\n",
        "def loss(y,y_aprox,W,C):\n",
        "  return (1/2)*np.linalg.norm(W)**2 + C*(np.maximum(0,1-y*y_aprox))\n"
      ],
      "metadata": {
        "id": "d6uS2nT1vqJw"
      },
      "execution_count": null,
      "outputs": []
    },
    {
      "cell_type": "markdown",
      "source": [],
      "metadata": {
        "id": "R3DZvmJin1u7"
      }
    },
    {
      "cell_type": "markdown",
      "source": [
        "### 3. Derivatives\n",
        "\n",
        "1. iF ($y_i*h(x_i)) \\lt 1 $\n",
        " - $\\frac{\\partial L}{\\partial w} = w + C\\sum_{\n",
        " i=0}^n-y_i*x_i $\n",
        "2. else\n",
        " - $\\frac{\\partial L}{\\partial w} = w $\n",
        "\n",
        "----\n",
        "**Don't forget to find the derivatives for Bias.**\n",
        "\n",
        "$\\frac{\\partial L}{\\partial b}= C*-y_i$\n",
        "\n",
        "\n",
        "\n",
        "\n"
      ],
      "metadata": {
        "id": "OtQf5LcKsRmj"
      }
    },
    {
      "cell_type": "code",
      "source": [
        "# Implemente la función para obtener las derivadas de W\n",
        "def derivatives(x, y,y_aprox, w, b, C):\n",
        "\n",
        "  condition=y*y_aprox\n",
        "  mask=condition<1\n",
        "\n",
        "  #dw=w+ C*np.dot(-y_aprox,x)\n",
        "  #db=C*y_aprox\n",
        "\n",
        "  dw= w+ C*np.sum((-y[mask,np.newaxis]* x[mask]),axis=0)\n",
        "  db=C*np.sum(-y[mask])\n",
        "  return db,dw\n"
      ],
      "metadata": {
        "id": "6GWcF6a-v0J1"
      },
      "execution_count": null,
      "outputs": []
    },
    {
      "cell_type": "markdown",
      "source": [
        "### 4. Change Parameters\n",
        "\n",
        "\n",
        "1. iF ($y_i*h(x_i)) \\lt 1 $\n",
        " - $w  = w -  \\alpha( C\\sum_{\n",
        " i=0}^n-y_i*x_i) $\n",
        "2. else\n",
        " - $w = w -  \\alpha*w$\n",
        "\n",
        "----\n",
        "**Don't forget charge the Bias.**\n",
        "$b= b - α* ∂b$\n"
      ],
      "metadata": {
        "id": "5dKoV2jksZ0-"
      }
    },
    {
      "cell_type": "code",
      "source": [
        "def Update(x,y,y_aprox,w, b, db, dw, alpha,C):\n",
        "  if (np.dot(y_aprox,h(x,w,b))<1):\n",
        "    w=w-alpha*(C*np.dot(-y_aprox,x))\n",
        "  else:\n",
        "    w=w-alpha*dw\n",
        "  b=b-alpha*db\n",
        "  return w, b"
      ],
      "metadata": {
        "id": "G6fVT25-v579"
      },
      "execution_count": null,
      "outputs": []
    },
    {
      "cell_type": "markdown",
      "source": [
        "# 5. Training stage"
      ],
      "metadata": {
        "id": "oEKGyLYJsfDc"
      }
    },
    {
      "cell_type": "code",
      "source": [
        "\n",
        "def training(X, Y, C, alpha, epochs):\n",
        "  w = np.array([np.random.rand() for i in range(X.shape[1])])\n",
        "  b = np.random.rand()\n",
        "  error = []\n",
        "  for i in range(epochs):\n",
        "    Y_aprox = h(X,w,b)\n",
        "    db, dw = derivatives(X, Y,Y_aprox, w, b, C)\n",
        "    w, b = Update(X,Y,Y_aprox,w, b, db, dw, alpha,C)\n",
        "    L = loss(Y,Y_aprox,w,C)\n",
        "    error.append(L)\n",
        "  return w, b, error"
      ],
      "metadata": {
        "id": "K9lvycWyv-Qd"
      },
      "execution_count": null,
      "outputs": []
    },
    {
      "cell_type": "markdown",
      "source": [
        "### 6. Testing Stage"
      ],
      "metadata": {
        "id": "rJRNAmzbsjKp"
      }
    },
    {
      "cell_type": "code",
      "source": [
        "# Implemente la función de testing\n",
        "def testing(X,W,b):\n",
        "  y_aprox = []\n",
        "  # write your code here\n",
        "  for i in range(X.shape[0]):\n",
        "    y_aprox.append(np.sign(np.dot(X[i], W.transpose())+b))\n",
        "  return np.array(y_aprox)"
      ],
      "metadata": {
        "id": "I0iqS5EdwEM_"
      },
      "execution_count": null,
      "outputs": []
    },
    {
      "cell_type": "code",
      "source": [
        "# Main Program\n",
        "\n",
        "m = train_y.size\n",
        "k = train_x[0].size\n",
        "train_x_norm = np.apply_along_axis(normalizacion, 1, train_x)\n",
        "test_x_norm = np.apply_along_axis(normalizacion, 1, test_x)\n",
        "\n",
        "train_x_norm = np.insert(train_x_norm, 0, 1, axis=1)\n",
        "test_x_norm = np.insert(test_x_norm, 0, 1, axis=1)\n",
        "\n",
        "W, b, e1, = training(train_x_norm, train_y, 1e6, 1e-8, 1200)\n",
        "m = test_y.size\n",
        "y_pred = testing(test_x_norm, W, b)\n",
        "test_y = test_y.astype('int')\n",
        "correct=np.count_nonzero(y_pred == test_y)\n",
        "\n",
        "print(\"Clasificados correctamente:\", correct)\n",
        "print(\"Clasificados incorrectamente:\", len(test_y)-correct)\n",
        "print(\"% de efectividad\", round(100*correct/len(test_y), 2))\n"
      ],
      "metadata": {
        "id": "0uF_jWeeTAPc",
        "colab": {
          "base_uri": "https://localhost:8080/"
        },
        "outputId": "0e2574ed-bd9d-4aa3-a52f-8be3de611314"
      },
      "execution_count": null,
      "outputs": [
        {
          "output_type": "stream",
          "name": "stdout",
          "text": [
            "Clasificados correctamente: 28\n",
            "Clasificados incorrectamente: 12\n",
            "% de efectividad 70.0\n"
          ]
        }
      ]
    },
    {
      "cell_type": "markdown",
      "source": [
        "Let's plot the loss function through the epochs"
      ],
      "metadata": {
        "id": "k_bdMYChE2Wr"
      }
    },
    {
      "cell_type": "code",
      "source": [
        "plt.plot(e1)\n",
        "plt.xlabel('Epochs')\n",
        "plt.ylabel('Loss')\n",
        "plt.title('Loss vs Epochs')\n",
        "plt.show()"
      ],
      "metadata": {
        "id": "gJOTeleKE7Lb",
        "colab": {
          "base_uri": "https://localhost:8080/",
          "height": 472
        },
        "outputId": "102f8b99-917b-4a0a-cea7-b0ccef6f36d1"
      },
      "execution_count": null,
      "outputs": [
        {
          "output_type": "display_data",
          "data": {
            "text/plain": [
              "<Figure size 640x480 with 1 Axes>"
            ],
            "image/png": "[encoded data removed]"
          },
          "metadata": {}
        }
      ]
    },
    {
      "cell_type": "code",
      "source": [
        "matrix = confusion_matrix(test_y,y_pred)\n",
        "df2 = pd.DataFrame(matrix.astype('float') / matrix.sum(axis=1)[:, np.newaxis], index=[\"Angry\", 'Happy'], columns=[\"Angry\", 'Happy'])\n",
        "sns.heatmap(df2, annot=True, cbar=None, cmap=\"Greens\")\n",
        "plt.title(\"Confusion Matrix\"), plt.tight_layout()\n",
        "plt.xlabel(\"Predicted\")\n",
        "plt.ylabel(\"Real\")\n",
        "plt.show()"
      ],
      "metadata": {
        "id": "du50NSwaKe83",
        "colab": {
          "base_uri": "https://localhost:8080/",
          "height": 506
        },
        "outputId": "c2af6796-8289-4c3c-f178-509eae98fa4e"
      },
      "execution_count": null,
      "outputs": [
        {
          "output_type": "display_data",
          "data": {
            "text/plain": [
              "<Figure size 640x480 with 1 Axes>"
            ],
            "image/png": "[encoded data removed]"
          },
          "metadata": {}
        }
      ]
    },
    {
      "cell_type": "markdown",
      "source": [
        "[Documento de excel](https://docs.google.com/spreadsheets/d/1yxYCjj_uS2Wrj8ofAc7hiRoCYX0-wJNiTMzGnWdsZoA/edit?usp=sharing)"
      ],
      "metadata": {
        "id": "1Hkcd0hls1Ir"
      }
    }
  ]
}